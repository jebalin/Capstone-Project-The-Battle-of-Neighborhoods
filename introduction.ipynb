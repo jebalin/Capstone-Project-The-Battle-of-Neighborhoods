{
 "cells": [
  {
   "cell_type": "markdown",
   "id": "25b27e50-22f9-42dc-957c-044c53c29ecc",
   "metadata": {},
   "source": [
    "# The Battle of Neighborhoods (Week 1)"
   ]
  },
  {
   "cell_type": "markdown",
   "id": "81361245-0c89-44c5-8d34-2f88dac45802",
   "metadata": {},
   "source": [
    "## In this notebook we will be exploring City of toronto for new restaurants "
   ]
  },
  {
   "cell_type": "markdown",
   "id": "0585bf71-f6ea-4f18-824f-7ff0d9a657fd",
   "metadata": {},
   "source": [
    "## Introduction"
   ]
  },
  {
   "cell_type": "markdown",
   "id": "7e8fe06f-d255-495c-ab2e-b2602f4a4d11",
   "metadata": {},
   "source": [
    "In this project we will explore Toronto city's data.\n",
    "\n",
    "Here we will try finding if someone wants to open a new restaurant in the city which location is best suited for it keeping in mind the competitors and which income group of people will be attracted most to it based on the population of the neighbourhood."
   ]
  },
  {
   "cell_type": "markdown",
   "id": "7db1b621-8975-4ccf-ae49-282cf1185c3e",
   "metadata": {},
   "source": [
    "## Business Problem"
   ]
  },
  {
   "cell_type": "markdown",
   "id": "c7bb9e24-eb51-4d78-be67-b6d7a9559293",
   "metadata": {},
   "source": [
    "Toronto is the provincial capital of Ontario and the most populous city in Canada, with a population of 6,254,571 in 2021. Current to 2021, the Toronto census metropolitan area (CMA), of which the majority is within the Greater Toronto Area (GTA), held a population of 6,254,571, making it Canada's most populous CMA. Toronto is the fastest growing city in North America. and is the anchor of an urban agglomeration, known as the Golden Horseshoe in Southern Ontario, located on the northwestern shore of Lake Ontario.\n",
    "\n",
    "Toronto encompasses a geographical area formerly administered by many separate municipalities. These municipalities have each developed a distinct history and identity over the years, and their names remain in common use among Torontonians. Former municipalities include East York, Etobicoke, Forest Hill, Mimico, North York, Parkdale, Scarborough, Swansea, Weston and York. Throughout the city there exist hundreds of small neighbourhoods and some larger neighbourhoods covering a few square kilometres.\n",
    "\n",
    "Having such vast population and big geographical area, there also exists big competition between businesses. Therefore it became very challenging for stake holder or new business to decide which area they should start their business to get higher revenue with lowest possible competition.\n",
    "\n",
    "Target Audience: New Business who wants to open a restaurant in Toronto.\n",
    "\n",
    "This project try to solve the above problem by suggesting the Target Audience which are the best locality to open new restaurants and gaining maximum profits in Toronto."
   ]
  },
  {
   "cell_type": "code",
   "execution_count": null,
   "id": "26ee18ad-216b-46d5-89f0-e0bdd80360e0",
   "metadata": {},
   "outputs": [],
   "source": []
  }
 ],
 "metadata": {
  "kernelspec": {
   "display_name": "Python",
   "language": "python",
   "name": "conda-env-python-py"
  },
  "language_info": {
   "codemirror_mode": {
    "name": "ipython",
    "version": 3
   },
   "file_extension": ".py",
   "mimetype": "text/x-python",
   "name": "python",
   "nbconvert_exporter": "python",
   "pygments_lexer": "ipython3",
   "version": "3.6.13"
  }
 },
 "nbformat": 4,
 "nbformat_minor": 5
}
