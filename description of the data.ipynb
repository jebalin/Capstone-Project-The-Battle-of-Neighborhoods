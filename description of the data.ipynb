{
 "cells": [
  {
   "cell_type": "markdown",
   "id": "25b27e50-22f9-42dc-957c-044c53c29ecc",
   "metadata": {},
   "source": [
    "# The Battle of Neighborhoods (Week 1)"
   ]
  },
  {
   "cell_type": "markdown",
   "id": "81361245-0c89-44c5-8d34-2f88dac45802",
   "metadata": {},
   "source": [
    "## In this notebook we will be exploring City of toronto for new restaurants "
   ]
  },
  {
   "cell_type": "markdown",
   "id": "0585bf71-f6ea-4f18-824f-7ff0d9a657fd",
   "metadata": {},
   "source": [
    "## Introduction"
   ]
  },
  {
   "cell_type": "markdown",
   "id": "7e8fe06f-d255-495c-ab2e-b2602f4a4d11",
   "metadata": {},
   "source": [
    "In this project we will explore Toronto city's data.\n",
    "\n",
    "Here we will try finding if someone wants to open a new restaurant in the city which location is best suited for it keeping in mind the competitors and which income group of people will be attracted most to it based on the population of the neighbourhood."
   ]
  },
  {
   "cell_type": "markdown",
   "id": "7db1b621-8975-4ccf-ae49-282cf1185c3e",
   "metadata": {},
   "source": [
    "## Business Problem"
   ]
  },
  {
   "cell_type": "markdown",
   "id": "c7bb9e24-eb51-4d78-be67-b6d7a9559293",
   "metadata": {},
   "source": [
    "Toronto is the provincial capital of Ontario and the most populous city in Canada, with a population of 6,254,571 in 2021. Current to 2021, the Toronto census metropolitan area (CMA), of which the majority is within the Greater Toronto Area (GTA), held a population of 6,254,571, making it Canada's most populous CMA. Toronto is the fastest growing city in North America. and is the anchor of an urban agglomeration, known as the Golden Horseshoe in Southern Ontario, located on the northwestern shore of Lake Ontario.\n",
    "\n",
    "Toronto encompasses a geographical area formerly administered by many separate municipalities. These municipalities have each developed a distinct history and identity over the years, and their names remain in common use among Torontonians. Former municipalities include East York, Etobicoke, Forest Hill, Mimico, North York, Parkdale, Scarborough, Swansea, Weston and York. Throughout the city there exist hundreds of small neighbourhoods and some larger neighbourhoods covering a few square kilometres.\n",
    "\n",
    "Having such vast population and big geographical area, there also exists big competition between businesses. Therefore it became very challenging for stake holder or new business to decide which area they should start their business to get higher revenue with lowest possible competition.\n",
    "\n",
    "Target Audience: New Business who wants to open a restaurant in Toronto.\n",
    "\n",
    "This project try to solve the above problem by suggesting the Target Audience which are the best locality to open new restaurants and gaining maximum profits in Toronto."
   ]
  },
  {
   "cell_type": "markdown",
   "id": "0fc69cee-ab2c-4be5-ad4d-57fe7b3fc164",
   "metadata": {},
   "source": [
    "## Description of the data and how it will be used to solve the problem."
   ]
  },
  {
   "cell_type": "markdown",
   "id": "b04d7505-b077-461c-9496-7332c59836dd",
   "metadata": {},
   "source": [
    "In this project we will explore Toronto city's data.\n",
    "\n",
    "Here we will try finding if someone wants to open a new restaurant in the city which location is best suited for it keeping in mind the competitors and which income group of people will be attracted most to it based on the population of the neighbourhood.\n",
    "\n",
    "For my analysis I choose 3 data resources which are,\n",
    "\n",
    "City of Toronto Neighbourhood Profiles use this Census data to provide a portrait of the demographic, social and economic characteristics of the people and households in each City of Toronto neighbourhood. The profiles present selected highlights from the data, but these accompanying data files provide the full data set assembled for each neighbourhood.\n",
    "\n",
    "Link: https://en.wikipedia.org/wiki/List_of_postal_codes_of_Canada:_M\"\n",
    "\n",
    "Using foursquare data to get information about restaurants in Toronto\n",
    "\n",
    "Link: https://foursquare.com/explore?mode=url&ne=44.418088%2C-78.362732&q=Restaurant&sw=42.742978%2C-80.554504"
   ]
  },
  {
   "cell_type": "markdown",
   "id": "7f85703a-9e60-4e49-afd4-8fb5d5f3cfbb",
   "metadata": {},
   "source": [
    "## Methodology"
   ]
  },
  {
   "cell_type": "markdown",
   "id": "bce8e22a-2a37-424c-89ce-3f67d5ae4e24",
   "metadata": {},
   "source": [
    "The main moto of this project is to find best location to open a new restaurant in Toronto, Canada based on competition in different locality and their population.\n",
    "\n",
    "So, to do this I have used 2 different data sets available as mentioned above. Those 2 data set contains Locality information of Toronto, different age group of people in the people, population.\n",
    "\n",
    "To solve the problem I am going to use “K-Means Clustering Algorithm \". K-means clustering is a type of unsupervised learning, which is used when you have unlabeled data (i.e., data without defined categories or groups). The goal of this algorithm is to find groups in the data, with the number of groups represented by the variable K. The algorithm works iteratively to assign each data point to one of K groups based on the features that are provided. Data points are clustered based on feature similarity. The results of the K-means clustering algorithm are:\n",
    "\n",
    "The centroids of the K clusters, which can be used to label new data Labels for the training data (each data point is assigned to a single cluster)\n",
    "\n",
    "Also, I will be utilizing different maps in-order to give a clear vision to the target audience.\n",
    "\n",
    "Steps we took for the analysis:\n",
    "\n",
    "Collected required **data: location and type (category) of every restaurant within our lat and lng. We have also the type of resutaurants in particu;ar locality.\n",
    "Explrored the 'restaurant density' across different areas of Toronto - we will use K- mean to identify a few promising areas close to center with low number of restaurants and their type.\n",
    "Explored the most promising areas and within those create clusters of locations that meet some basic requirements established in discussion with stakeholders: we will take into consideration locations with less restaurants in radius of 500 meters, We will present map of all such locations but also create clusters (using k-means clustering) of those locations to xplore neighborhood."
   ]
  },
  {
   "cell_type": "markdown",
   "id": "53539439-eba7-438a-b9b5-411eb0dd61b1",
   "metadata": {},
   "source": []
  }
 ],
 "metadata": {
  "kernelspec": {
   "display_name": "Python",
   "language": "python",
   "name": "conda-env-python-py"
  },
  "language_info": {
   "codemirror_mode": {
    "name": "ipython",
    "version": 3
   },
   "file_extension": ".py",
   "mimetype": "text/x-python",
   "name": "python",
   "nbconvert_exporter": "python",
   "pygments_lexer": "ipython3",
   "version": "3.6.13"
  }
 },
 "nbformat": 4,
 "nbformat_minor": 5
}
